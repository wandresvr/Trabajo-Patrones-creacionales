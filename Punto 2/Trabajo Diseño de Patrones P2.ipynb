{
 "cells": [
  {
   "cell_type": "markdown",
   "id": "07902080-ca95-425f-9618-eaebd55cc0cd",
   "metadata": {},
   "source": [
    "# Trabajo de Diseño de patrones y diseño de software - Patrones creacionales\n",
    "\n",
    "### Integrantes: \n",
    " #### - Wilson Andrés Vargas Rojas\n",
    " #### - Yeison Fabian Suarez Alba "
   ]
  },
  {
   "cell_type": "markdown",
   "id": "fedfa365-99c1-42f9-bacb-80cda90dbd2b",
   "metadata": {},
   "source": [
    "## Punto 2\n",
    "Se ha creado un programa para la generación de documentos sin importar su formato a partir de plantillas, para ello nos hemos basado en tres patrones creacionales, Prototype, Factory Method y Builder, que los iremos exponiendo durante el trabajo."
   ]
  },
  {
   "cell_type": "markdown",
   "id": "de85efba-8283-4a53-90e8-d9136439923d",
   "metadata": {},
   "source": [
    "## Trabajar a partir de plantillas, el patrón Prototype.\n",
    "Para poder crear una copia de la plantilla se usará el patrón Prototype, que nos ayuda a crear un nuevo objeto documento a partir de uno ya existente.\n",
    "\n",
    "### IPrototype\n",
    "Es una interfaz con un único método para realizar la clonación."
   ]
  },
  {
   "cell_type": "code",
   "execution_count": 163,
   "id": "c832895f-e089-4605-ba4a-01472d0f8c3f",
   "metadata": {},
   "outputs": [],
   "source": [
    "public interface IPrototype\n",
    "    {\n",
    "        IPrototype Clone();\n",
    "    }"
   ]
  },
  {
   "cell_type": "markdown",
   "id": "875deba9-de26-48d0-ae09-c52635e22881",
   "metadata": {},
   "source": [
    "### DocumentFile\n",
    "Esta es la clase abstracta que heredará los metodos mas relevantes para la creación de los documentos, ya que algunos métodos se comparten entre sí pero cada uno tiene que proporcionar su propia lógica, Haciendo que los principios SOLID se respeten."
   ]
  },
  {
   "cell_type": "code",
   "execution_count": 164,
   "id": "821421d7-df05-4f2c-ae76-1b1d6911a222",
   "metadata": {},
   "outputs": [],
   "source": [
    "//Se añade el método para realizar el Prototype y se implementa la interfaz\n",
    "public abstract class DocumentFile: IPrototype\n",
    "    {\n",
    "        public string FileName { get; set; } \n",
    "        public string Title { get; set; }\n",
    "        public List<string> Columns { get; set; } = new List<string>();\n",
    "        public List<string> Tables { get; set; } = new List<string>();\n",
    "    \n",
    "        public abstract void AddColumn(string column);\n",
    "        public abstract void AddTable(string tableData);\n",
    "        public abstract void SetTitle(string title);\n",
    "        public abstract string RetrieveContent(); \n",
    "\n",
    "        public abstract IPrototype Clone();\n",
    "    }"
   ]
  },
  {
   "cell_type": "markdown",
   "id": "2856947a-7289-4548-9eb4-95ccd248a7c9",
   "metadata": {},
   "source": [
    "### Clases especificas (DOCXDocumentFile, XLSXDocumentFile, XMLDocumentFile)\n",
    "Estos son nuestros productos especificos"
   ]
  },
  {
   "cell_type": "code",
   "execution_count": 165,
   "id": "2da5db0f-dc4b-4c21-9bef-0cd169e62c35",
   "metadata": {},
   "outputs": [],
   "source": [
    "public class DOCXDocumentFile : DocumentFile\n",
    "    {\n",
    "        public DOCXDocumentFile(string fileName) \n",
    "        {\n",
    "            FileName = fileName;\n",
    "        }\n",
    "    \n",
    "        public override void AddColumn(string column)\n",
    "        {\n",
    "            Console.WriteLine(String.Format(\"Añadiendo columna {0}...\",column));\n",
    "            Columns.Add(column);\n",
    "            \n",
    "        }\n",
    "    \n",
    "        public override void AddTable(string tableData)\n",
    "        {\n",
    "            Console.WriteLine(String.Format(\"Añadiendo tabla {0}...\",tableData));\n",
    "            Tables.Add(tableData);\n",
    "        }\n",
    "    \n",
    "        public override void SetTitle(string title)\n",
    "        {\n",
    "            Console.WriteLine(String.Format(\"Añadiendo el titulo {0}...\",title));\n",
    "            Title = title;\n",
    "        }\n",
    "    \n",
    "        public override string RetrieveContent()\n",
    "        {\n",
    "            Console.WriteLine(\"Archivo Word: \");\n",
    "            Console.WriteLine(String.Format(\"Titulo: {0}\", Title));\n",
    "            Console.WriteLine(String.Format(\"Columnas: {0}\", String.Join(\",\", Columns)));\n",
    "            Console.WriteLine(String.Format(\"Tablas: {0}\", String.Join(\",\", Tables)));\n",
    "            return \"Contenido del archivo...\";\n",
    "        }\n",
    "\n",
    "        public override IPrototype Clone()\n",
    "        {\n",
    "            return new DOCXDocumentFile(this.FileName);\n",
    "        }\n",
    "    \n",
    "}"
   ]
  },
  {
   "cell_type": "code",
   "execution_count": 166,
   "id": "2a7f8dd1-e456-4110-bc36-bab644ed156e",
   "metadata": {},
   "outputs": [],
   "source": [
    "public class XLSXDocumentFile : DocumentFile\n",
    "    {\n",
    "\n",
    "        public XLSXDocumentFile(string fileName)\n",
    "        {\n",
    "            FileName = fileName;\n",
    "        }\n",
    "    \n",
    "        public override void AddColumn(string column)\n",
    "        {\n",
    "            Console.WriteLine(String.Format(\"Añadiendo la columna {0}...\",column));\n",
    "            Columns.Add(column);\n",
    "        }\n",
    "    \n",
    "        public override void AddTable(string tableData)\n",
    "        {\n",
    "            Console.WriteLine(String.Format(\"Añadiendo la tabla {0}...\",tableData));\n",
    "            Tables.Add(tableData);\n",
    "        }\n",
    "    \n",
    "        public override void SetTitle(string title)\n",
    "        {\n",
    "            Console.WriteLine(String.Format(\"Añadiendo el titulo {0}...\",title));\n",
    "            Title = title;\n",
    "        }\n",
    "    \n",
    "        public override string RetrieveContent()\n",
    "        {\n",
    "            Console.WriteLine(\"Archivo Excel: \");\n",
    "            Console.WriteLine(String.Format(\"Titulo: {0}\", Title));\n",
    "            Console.WriteLine(String.Format(\"Columnas: {0}\", String.Join(\",\", Columns)));\n",
    "            Console.WriteLine(String.Format(\"Tablas: {0}\", String.Join(\",\", Tables)));\n",
    "            return \"Contenido del archivo...\";\n",
    "        }\n",
    "    \n",
    "        public override IPrototype Clone()\n",
    "        {\n",
    "            return new XLSXDocumentFile(this.FileName);\n",
    "        }\n",
    "    }"
   ]
  },
  {
   "cell_type": "code",
   "execution_count": 167,
   "id": "3a3be3b6-297a-4b97-ba1c-63f49bec661e",
   "metadata": {},
   "outputs": [],
   "source": [
    "public class XMLDocumentFile : DocumentFile\n",
    "    {\n",
    "        public XMLDocumentFile(string fileName)\n",
    "        {\n",
    "            FileName = fileName;\n",
    "        }\n",
    "\n",
    "        public override void AddColumn(string column)\n",
    "        {\n",
    "            Console.WriteLine(String.Format(\"Añadiendo la columna {0}...\",column));\n",
    "            Columns.Add(\"<Column>\" + column + \"</Column>\");\n",
    "        }\n",
    "        \n",
    "        public override void AddTable(string tableData)\n",
    "        {\n",
    "            Console.WriteLine(String.Format(\"Añadiendo la tabla {0}...\",tableData));\n",
    "            Tables.Add(\"<Table>\" + tableData + \"</Table>\");\n",
    "        }\n",
    "        \n",
    "        public override void SetTitle(string title)\n",
    "        {\n",
    "            Console.WriteLine(String.Format(\"Añadiendo el titulo {0}...\",title));\n",
    "            Title = \"<Title>\" + title + \"</Title>\";\n",
    "        }\n",
    "        \n",
    "        public override string RetrieveContent()\n",
    "        {\n",
    "            Console.WriteLine(\"Archivo XML\");\n",
    "            Console.WriteLine(String.Format(\"Titulo: {0}\", Title));\n",
    "            Console.WriteLine(String.Format(\"Columnas: {0}\", String.Join(\",\", Columns)));\n",
    "            Console.WriteLine(String.Format(\"Tablas: {0}\", String.Join(\",\", Tables)));\n",
    "            return \"Contenido del archivo...\";\n",
    "        }\n",
    "\n",
    "        public override IPrototype Clone()\n",
    "        {\n",
    "            return new XMLDocumentFile(this.FileName);\n",
    "        }\n",
    "    }"
   ]
  },
  {
   "cell_type": "markdown",
   "id": "e4d67ae9-4a74-4e20-a804-0bcdbb15bd75",
   "metadata": {},
   "source": [
    "Ahora, si quiero trabajar a partir de una plantilla tendría:"
   ]
  },
  {
   "cell_type": "code",
   "execution_count": 168,
   "id": "48816d9c-75d3-434f-b653-9c0ee304a301",
   "metadata": {},
   "outputs": [
    {
     "name": "stdout",
     "output_type": "stream",
     "text": [
      "Añadiendo el titulo Mi trabajo...\n",
      "Añadiendo columna Reporte...\n",
      "Añadiendo columna Grafica...\n",
      "Archivo Word: \n",
      "Titulo: Mi trabajo\n",
      "Columnas: Reporte,Grafica\n",
      "Tablas: \n"
     ]
    }
   ],
   "source": [
    "//Archivo plantilla que existe\n",
    "DocumentFile ExistingTemplateFile = new DOCXDocumentFile(\"documentoprueba.docx\");\n",
    "\n",
    "//Generar un archivo a partir de la plantilla\n",
    "DocumentFile FileByTemplate = (DocumentFile)ExistingTemplateFile.Clone();\n",
    "//Cambiar los atributos especificos de la plantilla\n",
    "FileByTemplate.SetTitle(\"Mi trabajo\");\n",
    "FileByTemplate.AddColumn(\"Reporte\");\n",
    "FileByTemplate.AddColumn(\"Grafica\");\n",
    "\n",
    "FileByTemplate.RetrieveContent();"
   ]
  },
  {
   "cell_type": "markdown",
   "id": "fabb0c85-ef1a-4513-9998-83a6ae62b8c2",
   "metadata": {},
   "source": [
    "## Crear nuevos documentos, el patrón Factory Method\n",
    "\n",
    "Al momento de crear un documento basta con instanciar el objeto, pero que pasa si se cambia la manera en que se construye el documento?, tendría que ir a cambiar cada instanciación, rompiendo el Principio Open-Close de los principios SOLID, para ello hacermos uso del patrón Factory Method.\n",
    "\n",
    "### La fabrica: "
   ]
  },
  {
   "cell_type": "code",
   "execution_count": 169,
   "id": "ec3755b2-a804-4095-831b-dfa6e0362935",
   "metadata": {},
   "outputs": [],
   "source": [
    "public abstract class DocumentFileFactory\n",
    "    {\n",
    "        public abstract DocumentFile CreateDocumentFile(String filename);\n",
    "    }"
   ]
  },
  {
   "cell_type": "markdown",
   "id": "1695b749-a30f-4e7a-8c46-147a2f7e188d",
   "metadata": {},
   "source": [
    "### Fabricas concretas: XMLDocumentFactory, XLSXDocumentFactory, DOCXDocumentFactory\n",
    "Cada fabrica concreta me creará el documento según el tipo necesario."
   ]
  },
  {
   "cell_type": "code",
   "execution_count": 170,
   "id": "f468409c-6d5c-4d52-a677-f559c26d86d5",
   "metadata": {},
   "outputs": [],
   "source": [
    "//Fabrica para Excel\n",
    "public class XLSXDocumentFactory : DocumentFileFactory\n",
    "    {\n",
    "        public override DocumentFile CreateDocumentFile(String filename)\n",
    "        {\n",
    "            return new XLSXDocumentFile(filename);\n",
    "        }\n",
    "    }\n",
    "\n",
    "//Fabrica para Word\n",
    "public class DOCXDocumentFactory : DocumentFileFactory\n",
    "    {\n",
    "        public override DocumentFile CreateDocumentFile(String filename)\n",
    "        {\n",
    "            return new DOCXDocumentFile(filename);\n",
    "        }\n",
    "    }\n",
    "\n",
    "//Fabrica para XML\n",
    "public class XMLDocumentFactory : DocumentFileFactory\n",
    "    {\n",
    "        public override DocumentFile CreateDocumentFile(String filename)\n",
    "        {\n",
    "            return new XMLDocumentFile(filename);\n",
    "        }\n",
    "    }"
   ]
  },
  {
   "cell_type": "markdown",
   "id": "24cf6df8-93e5-4b44-8d30-b29df1171692",
   "metadata": {},
   "source": [
    "Ahora cuando se quiera crear un documento crearemos y llamaremos a las fábricas."
   ]
  },
  {
   "cell_type": "code",
   "execution_count": 171,
   "id": "82313b27-6f79-4739-b886-ccc87f1ab6ea",
   "metadata": {},
   "outputs": [],
   "source": [
    "// Crear instancias de las fábricas\n",
    "XLSXDocumentFactory excelFactory = new XLSXDocumentFactory();\n",
    "XMLDocumentFactory xmlFactory = new XMLDocumentFactory();\n",
    "DOCXDocumentFactory wordFactory = new DOCXDocumentFactory();\n",
    "\n",
    "// Crear documentos a través de las fábricas\n",
    "DocumentFile excelDocument = excelFactory.CreateDocumentFile(\"ExcelDocumento.xlsx\");\n",
    "DocumentFile xmlDocument = xmlFactory.CreateDocumentFile(\"XMLDocumento.xml\");\n",
    "DocumentFile wordDocument = wordFactory.CreateDocumentFile(\"WordDocumento.docx\");"
   ]
  },
  {
   "cell_type": "markdown",
   "id": "8a8addf6-ad7b-4db3-a22f-7ee0d51020bc",
   "metadata": {},
   "source": [
    "## Crear documentos paso a paso - El patrón Builder\n",
    "Al crear los documentos podríamos encontrarnos con que crearlos desde cero puede ser muy laborioso con un contructor bastante extenso y dificil de manejar. Con el patrón builder podremos crear lo necesario paso a paso.\n",
    "\n",
    "### La Interfaz Builder\n",
    "Esta interfaz va tener todos los métodos para todos aquellos atributos que quiero utilizar en la construcción de mi documento, logrando también la segregación de interfaces."
   ]
  },
  {
   "cell_type": "code",
   "execution_count": 172,
   "id": "9cec7fbf-df18-4a4b-bc29-f83bba2ba830",
   "metadata": {},
   "outputs": [],
   "source": [
    "public interface IBuilder\n",
    "{\n",
    "    IBuilder SetTitle(string title); \n",
    "    IBuilder AddTable(string tableData);\n",
    "    IBuilder AddColumn(string column);\n",
    "    IBuilder ApplyStyle(string style);\n",
    "    DocumentFile Build(); \n",
    "}"
   ]
  },
  {
   "cell_type": "markdown",
   "id": "80b3e7a9-1e8e-4d11-9b3b-b557f208dbf5",
   "metadata": {},
   "source": [
    "Ahora bien, como queremos crear un PDF, debemos definirle una clase que herede de DocumentFile, sin emabrgo, al heredar directamente tendriamos dos problemas, uno de ellos es que habrían métodos que no puede usar un PDF en DocumentFIle, violando el principio de Liskov"
   ]
  },
  {
   "cell_type": "markdown",
   "id": "2f9e6680-5326-4237-aa2e-820b76b82efe",
   "metadata": {},
   "source": [
    "### El builder concreto para crear mi documento"
   ]
  },
  {
   "cell_type": "code",
   "execution_count": 173,
   "id": "fee5d881-e3fa-48b5-bd14-9c82b105fdf8",
   "metadata": {},
   "outputs": [],
   "source": [
    "public class DocumentBuilder : IBuilder\n",
    "{\n",
    "    private DocumentFile document;\n",
    "    \n",
    "    public DocumentBuilder(DocumentFile document) {\n",
    "        this.document = document;  // Corrección: asignar el parámetro al campo de instancia.\n",
    "    }\n",
    "    \n",
    "    public IBuilder SetTitle(string title) {\n",
    "        document.SetTitle(title);\n",
    "        return this;\n",
    "    }\n",
    "    \n",
    "    public IBuilder AddColumn(string column) {\n",
    "        document.AddColumn(column);\n",
    "        return this;\n",
    "    }\n",
    "    \n",
    "    public IBuilder AddTable(string tableData) {\n",
    "        document.AddTable(tableData);\n",
    "        return this;\n",
    "    }\n",
    "    \n",
    "    public IBuilder ApplyStyle(string style) {\n",
    "        // Implementar la aplicación de estilo si es necesario\n",
    "        return this;\n",
    "    }\n",
    "    \n",
    "    public DocumentFile Build() {\n",
    "        return document;\n",
    "    }\n",
    "}\n"
   ]
  },
  {
   "cell_type": "markdown",
   "id": "6090c42a-072c-4fcd-8182-8e12fee303a8",
   "metadata": {},
   "source": [
    "Ahora podremos contruir el documento como lo requeramos:"
   ]
  },
  {
   "cell_type": "code",
   "execution_count": 174,
   "id": "cfd99289-1811-43ca-bfa9-306fdf0a23ad",
   "metadata": {},
   "outputs": [
    {
     "name": "stdout",
     "output_type": "stream",
     "text": [
      "Añadiendo el titulo Reporte mensual...\n",
      "Añadiendo columna Balance anual...\n",
      "Añadiendo columna Sucursal...\n",
      "Añadiendo tabla Ventas a clientes...\n",
      "Archivo Word: \n",
      "Titulo: Reporte mensual\n",
      "Columnas: Balance anual,Sucursal\n",
      "Tablas: Ventas a clientes\n"
     ]
    }
   ],
   "source": [
    "DocumentFile docxDoc = new DOCXDocumentFile(\"reporte.docx\");\n",
    "IBuilder builder = new DocumentBuilder(docxDoc);\n",
    "DocumentFile doc = builder\n",
    "    .SetTitle(\"Reporte mensual\")\n",
    "    .AddColumn(\"Balance anual\")\n",
    "    .AddColumn(\"Sucursal\")\n",
    "    .AddTable(\"Ventas a clientes\")\n",
    "    .Build();\n",
    "\n",
    "doc.RetrieveContent();"
   ]
  },
  {
   "cell_type": "markdown",
   "id": "dbed8bc7-3d07-445c-af5d-67bb1a7b68e9",
   "metadata": {},
   "source": [
    "## Convertir a PDF - Juntando todo\n",
    "Luego de haber creado tres patrones creacionales, ya podemos hacer uso de todo el contenido para crear nuestro PDF."
   ]
  },
  {
   "cell_type": "code",
   "execution_count": 197,
   "id": "629c9e47-948c-409c-a159-827ed7aed7db",
   "metadata": {},
   "outputs": [],
   "source": [
    "public class PdfDocument\n",
    "{\n",
    "    String FileName;\n",
    "    \n",
    "    public PdfDocument(string fileName) {\n",
    "        FileName = fileName;\n",
    "    }\n",
    "\n",
    "    public string RetrieveContent() {\n",
    "        return \"Contenido PDF\";\n",
    "    }\n",
    "    \n",
    "    // Método estático para simular la generación real del PDF a partir de un DocumentFile\n",
    "    public static PdfDocument GeneratePdf(DocumentFile document) {\n",
    "        PdfDocument pdf = new PdfDocument(document.FileName);\n",
    "        Console.WriteLine(\"PDF Generado.\");\n",
    "        return pdf;\n",
    "    }\n",
    "}"
   ]
  },
  {
   "cell_type": "markdown",
   "id": "36275beb-6c9b-4600-8762-744ffe27c3cb",
   "metadata": {},
   "source": [
    "Ahora empecemos con la creación de un ejemplo:"
   ]
  },
  {
   "cell_type": "code",
   "execution_count": 198,
   "id": "46d8c24c-93b9-4658-a3ea-57e3bb37601d",
   "metadata": {},
   "outputs": [
    {
     "name": "stdout",
     "output_type": "stream",
     "text": [
      "Añadiendo el titulo Notas...\n",
      "Añadiendo columna Semestre 1...\n",
      "Añadiendo tabla Promedio de notas...\n",
      "Plantilla: \n",
      "Archivo Word: \n",
      "Titulo: Notas\n",
      "Columnas: Semestre 1\n",
      "Tablas: Promedio de notas\n",
      "Mi archivo: \n",
      "Añadiendo el titulo Mis notas...\n",
      "Añadiendo columna Semestre 2...\n",
      "Añadiendo tabla Ingenieria de requisitos...\n",
      "Añadiendo tabla Diseño de patrones...\n",
      "Archivo Word: \n",
      "Titulo: Mis notas\n",
      "Columnas: Semestre 1,Semestre 2\n",
      "Tablas: Promedio de notas,Ingenieria de requisitos,Diseño de patrones\n",
      "PDF Generado.\n"
     ]
    }
   ],
   "source": [
    "//El usuario decidio crear un Word, se llama a la fabrica concreta\n",
    "DocumentFileFactory factory = new DOCXDocumentFactory();\n",
    "\n",
    "//Se crea el archivo Word\n",
    "DocumentFile file = factory.CreateDocumentFile(\"Notas del semestre.docx\");\n",
    "\n",
    "//Se crea el builder para el documento\n",
    "IBuilder Mybuilder = new DocumentBuilder(file);\n",
    "\n",
    "//Crea un template\n",
    "DocumentFile template = Mybuilder\n",
    "    .SetTitle(\"Notas\")\n",
    "    .AddColumn(\"Semestre 1\")\n",
    "    .AddTable(\"Promedio de notas\")\n",
    "    .Build();\n",
    "\n",
    "Console.WriteLine(\"Plantilla: \");\n",
    "//Contenido del template\n",
    "template.RetrieveContent();\n",
    "\n",
    "//Crear una copia del template\n",
    "DocumentFile myReport = (DocumentFile)template.Clone();\n",
    "\n",
    "Console.WriteLine(\"Mi archivo: \");\n",
    "//Modificar el archivo\n",
    "myReport = Mybuilder\n",
    "    .SetTitle(\"Mis notas\")\n",
    "    .AddColumn(\"Semestre 2\")\n",
    "    .AddTable(\"Ingenieria de requisitos\")\n",
    "    .AddTable(\"Diseño de patrones\")\n",
    "    .Build();\n",
    "\n",
    "//Contenido de mi archivo\n",
    "myReport.RetrieveContent();\n",
    "\n",
    "//Generar archivo PDF\n",
    "PdfDocument myReportPdf = PdfDocument.GeneratePdf(myReport);"
   ]
  },
  {
   "cell_type": "code",
   "execution_count": null,
   "id": "628f1b1f-30ba-4497-aaee-44b1da219933",
   "metadata": {},
   "outputs": [],
   "source": []
  }
 ],
 "metadata": {
  "kernelspec": {
   "display_name": ".NET (C#)",
   "language": "C#",
   "name": ".net-csharp"
  },
  "language_info": {
   "file_extension": ".cs",
   "mimetype": "text/x-csharp",
   "name": "C#",
   "pygments_lexer": "csharp",
   "version": "13.0"
  }
 },
 "nbformat": 4,
 "nbformat_minor": 5
}
