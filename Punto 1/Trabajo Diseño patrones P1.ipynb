{
 "cells": [
  {
   "cell_type": "markdown",
   "id": "46ff76fd-3555-4f72-a278-d03884290a61",
   "metadata": {},
   "source": [
    "# Trabajo de Diseño de patrones y diseño de software - Patrones creacionales\n",
    "\n",
    "### Integrantes: \n",
    " #### - Wilson Andrés Vargas Rojas\n",
    " #### - Yeison Fabian Suarez Alba "
   ]
  },
  {
   "cell_type": "markdown",
   "id": "1edaca86-d72a-474c-ba4f-39a597485cf7",
   "metadata": {},
   "source": [
    "## Punto 1\n",
    "\n",
    "Se ha optado por usar tres patrones creacionales en un contexto de videojuegos en los que se abordarán tres problemas, cada uno resulto con un patrón creacional.\n",
    "\n",
    "## Patrón Prototype - Lanzamiento de escenarios o mapas al servidor.\n",
    "Se tiene que en una partida de video juego las armas deben aparecer dispersas por el campo de juego, debido a que volver a crear un mapa de videojuego requiere un gran esfuerzo, el patrón Prototype busca hacer copias del mapa para ser lanzada en diferentes partidas en un servidor.\n",
    "\n",
    "A continuación se explica su implementación:\n",
    "\n",
    "### GameScenario\n",
    "Usualmente, el patrón Prototype se implementa con una interfaz, lo cual es válido cuando se busca flexibilidad y que cada clase defina su propio método de clonación. Sin embargo, al usar una clase abstracta, se puede evitar la duplicidad de código en objetos con características y lógica similares. La clase abstracta \"GameScenario\" recibirá el escenario o mapa, encargada de añadir las armas en diferentes partes de un mapa y de eliminarlos, además, se define su constructor y sus métodos get y set."
   ]
  },
  {
   "cell_type": "code",
   "execution_count": 4,
   "id": "780f74ee-c11c-4b1f-83cf-7c0706ac68d1",
   "metadata": {},
   "outputs": [],
   "source": [
    "import java.util.ArrayList;\n",
    "\n",
    "public abstract class GameScenario {\n",
    "\n",
    "    protected String scenarioName;\n",
    "    protected String scenarioDescription;\n",
    "    protected String scenarioType;\n",
    "    protected String scenarioBackground;\n",
    "    protected ArrayList<String> RandomLocationsList = new ArrayList<>();\n",
    "    \n",
    "    public GameScenario(GameScenario gameScenario) {\n",
    "        if (gameScenario != null) {\n",
    "            this.scenarioName = gameScenario.scenarioName;\n",
    "            this.scenarioDescription = gameScenario.scenarioDescription;\n",
    "            this.scenarioType = gameScenario.scenarioType;\n",
    "            this.scenarioBackground = gameScenario.scenarioBackground;\n",
    "            this.RandomLocationsList = new ArrayList<>(gameScenario.RandomLocationsList);\n",
    "        } else {\n",
    "            this.scenarioName = \"\";\n",
    "            this.scenarioDescription = \"\";\n",
    "            this.scenarioType = \"\";\n",
    "            this.scenarioBackground = \"\";\n",
    "            this.RandomLocationsList = new ArrayList<>();\n",
    "        }\n",
    "    }\n",
    "    public String getScenarioName() {\n",
    "        return scenarioName;\n",
    "    }\n",
    "    public void setScenarioName(String scenarioName) {\n",
    "        this.scenarioName = scenarioName;\n",
    "    }\n",
    "    public String getScenarioDescription() {\n",
    "        return scenarioDescription;\n",
    "    } \n",
    "    public void setScenarioDescription(String scenarioDescription) {\n",
    "        this.scenarioDescription = scenarioDescription;\n",
    "    }\n",
    "    public String getScenarioType() {\n",
    "        return scenarioType;\n",
    "    }\n",
    "    public void setScenarioType(String scenarioType) {\n",
    "        this.scenarioType = scenarioType;\n",
    "    }\n",
    "    public String getScenarioBackground() {\n",
    "        return scenarioBackground;\n",
    "    }\n",
    "    public void setScenarioBackground(String scenarioBackground) {\n",
    "        this.scenarioBackground = scenarioBackground;\n",
    "    }\n",
    "    public void addWeaponsPosition(String location) {\n",
    "        System.out.println(\"Adding weapons to \" + location);\n",
    "        RandomLocationsList.add(location);\n",
    "    }\n",
    "    public void deleteallWeapons() {\n",
    "        if (RandomLocationsList.size() > 0) {\n",
    "            System.out.println(\"Deleting all weapons\");\n",
    "            RandomLocationsList.clear();\n",
    "        }\n",
    "        else\n",
    "            System.out.println(\"No weapons to delete\");        \n",
    "    }\n",
    "    public abstract GameScenario clone();\n",
    "}\n"
   ]
  },
  {
   "cell_type": "markdown",
   "id": "2533e531-3417-49ad-b642-4022e20391a4",
   "metadata": {},
   "source": [
    "### BasicScenario\n",
    "La clase BasicScenario es uno de los escenarios o mapas que se contruyen"
   ]
  },
  {
   "cell_type": "code",
   "execution_count": 6,
   "id": "2d103661-e228-4afc-b598-8d524a451831",
   "metadata": {},
   "outputs": [],
   "source": [
    "import java.util.ArrayList;\n",
    "import java.util.List;\n",
    "\n",
    "public class BasicScenario extends GameScenario{\n",
    "\n",
    "    private List<String>  RandomLocationsList = new ArrayList<>();\n",
    "\n",
    "    public BasicScenario(BasicScenario target) {\n",
    "        super(target);\n",
    "        if (target != null) {\n",
    "            this.scenarioName = target.scenarioName;\n",
    "            this.scenarioDescription = target.scenarioDescription;\n",
    "            this.scenarioType = target.scenarioType;\n",
    "            this.scenarioBackground = target.scenarioBackground;\n",
    "            this.RandomLocationsList = new ArrayList<>(target.RandomLocationsList);\n",
    "        } else {\n",
    "            this.scenarioName = \"\";\n",
    "            this.scenarioDescription = \"\";\n",
    "            this.scenarioType = \"\";\n",
    "            this.scenarioBackground = \"\";\n",
    "            this.RandomLocationsList = new ArrayList<>();\n",
    "        }\n",
    "    }\n",
    "    \n",
    "    public BasicScenario clone() {\n",
    "        return new BasicScenario(this);\n",
    "    }\n",
    "    public String getScenarioName() {\n",
    "        return scenarioName;\n",
    "    }\n",
    "    public void setScenarioName(String scenarioName) {\n",
    "        this.scenarioName = scenarioName;\n",
    "    }\n",
    "    public String getScenarioDescription() {\n",
    "        return scenarioDescription;\n",
    "    }\n",
    "    public void setScenarioDescription(String scenarioDescription) {\n",
    "        this.scenarioDescription = scenarioDescription;\n",
    "    }\n",
    "    public String getScenarioType() {\n",
    "        return scenarioType;\n",
    "    }\n",
    "    public void setScenarioType(String scenarioType) {\n",
    "        this.scenarioType = scenarioType;\n",
    "    }\n",
    "    public String getScenarioBackground() {\n",
    "        return scenarioBackground;\n",
    "    }\n",
    "    public void setScenarioBackground(String scenarioBackground) {\n",
    "        this.scenarioBackground = scenarioBackground;\n",
    "    }\n",
    "}"
   ]
  },
  {
   "cell_type": "markdown",
   "id": "c91bef7c-e6f5-4092-a204-8aefef98c4f8",
   "metadata": {},
   "source": [
    "### SetupScenario\n",
    "La clase SetupScenario es aquella clase main que me hará la implementación de lo que requiero."
   ]
  },
  {
   "cell_type": "code",
   "execution_count": 40,
   "id": "b097aaab-5c60-4d39-b80f-450125a40a41",
   "metadata": {},
   "outputs": [],
   "source": [
    "import java.util.ArrayList;\n",
    "import java.util.Arrays;\n",
    "import java.util.Random;\n",
    "\n",
    "public class SetupScenario {\n",
    "    public static void main(String[] args) {\n",
    "        \n",
    "        int matchNumbers = 4; //Se define el número de partidas a lanzar al servidor\n",
    "\n",
    "        //Localizaciones \n",
    "        ArrayList<String> arrayScenarios = new ArrayList<>(Arrays.asList(\"house\", \"school\", \"park\", \"beach\", \n",
    "        \"forest\", \"mountain\", \"lake\", \"river\", \"cave\", \"desert\", \"jungle\", \"swamp\", \"city\", \"town\", \"village\"));\n",
    "\n",
    "        ArrayList<Object> arrayGameScenarios = new ArrayList<>();\n",
    "\n",
    "        //Creación de un scenario base a cargar\n",
    "        GameScenario gameScenarioBase = new BasicScenario(null);\n",
    "        gameScenarioBase.setScenarioName(\"Basic\");\n",
    "        gameScenarioBase.setScenarioDescription(\"A basic scenario for testing\");\n",
    "        gameScenarioBase.setScenarioType(\"Test\");\n",
    "        gameScenarioBase.setScenarioBackground(\"A blank background\");\n",
    "        \n",
    "        //Crear el número de mapas según las partidas\n",
    "        for (int i = 0; i < matchNumbers; i++) {\n",
    "            GameScenario protoGameScenario = gameScenarioBase.clone(); //Clonar el scenario\n",
    "            String NameProtoScenario = protoGameScenario.getScenarioName(); //Obtener el nombre del scenario base\n",
    "            protoGameScenario.setScenarioName(NameProtoScenario+\"_\"+ Integer.toString(i)); //Setear el nuevo nombre del scenario\n",
    "            Random random = new Random();\n",
    "            protoGameScenario.addWeaponsPosition(arrayScenarios.get(random.nextInt(arrayScenarios.size()))); //Añadir armas al scenario\n",
    "            \n",
    "            System.out.println(\"Adding scenario: \"+protoGameScenario.getScenarioName() + \" to list.\");\n",
    "            arrayGameScenarios.add(protoGameScenario);\n",
    "        }\n",
    "        \n",
    "        //Send to game scenarios to the server logic ...\n",
    "    }\n",
    "}\n"
   ]
  },
  {
   "cell_type": "markdown",
   "id": "cafbc6bc-a0f6-41df-9ead-0f6692f601ef",
   "metadata": {},
   "source": [
    "### Ejecutando el código tendríamos:"
   ]
  },
  {
   "cell_type": "code",
   "execution_count": 70,
   "id": "dc9938e1-5371-4b35-849b-40a09ec02b4e",
   "metadata": {},
   "outputs": [
    {
     "name": "stdout",
     "output_type": "stream",
     "text": [
      "Adding weapons to house\n",
      "Adding scenario: Basic_0 to list.\n",
      "Adding weapons to swamp\n",
      "Adding scenario: Basic_1 to list.\n",
      "Adding weapons to river\n",
      "Adding scenario: Basic_2 to list.\n",
      "Adding weapons to beach\n",
      "Adding scenario: Basic_3 to list.\n"
     ]
    }
   ],
   "source": [
    "int matchNumbers = 4; //Se define el número de partidas a lanzar al servidor\n",
    "\n",
    "//Localizaciones \n",
    "ArrayList<String> arrayScenarios = new ArrayList<>(Arrays.asList(\"house\", \"school\", \"park\", \"beach\", \n",
    "\"forest\", \"mountain\", \"lake\", \"river\", \"cave\", \"desert\", \"jungle\", \"swamp\", \"city\", \"town\", \"village\"));\n",
    "\n",
    "ArrayList<Object> arrayGameScenarios = new ArrayList<>();\n",
    "\n",
    "//Creación de un scenario base a cargar\n",
    "GameScenario gameScenarioBase = new BasicScenario(null);\n",
    "gameScenarioBase.setScenarioName(\"Basic\");\n",
    "gameScenarioBase.setScenarioDescription(\"A basic scenario for testing\");\n",
    "gameScenarioBase.setScenarioType(\"Test\");\n",
    "gameScenarioBase.setScenarioBackground(\"A blank background\");\n",
    "\n",
    "//Crear el número de mapas según las partidas\n",
    "for (int i = 0; i < matchNumbers; i++) {\n",
    "    GameScenario protoGameScenario = gameScenarioBase.clone(); //Clonar el scenario\n",
    "    String NameProtoScenario = protoGameScenario.getScenarioName(); //Obtener el nombre del scenario base\n",
    "    protoGameScenario.setScenarioName(NameProtoScenario+\"_\"+ Integer.toString(i)); //Setear el nuevo nombre del scenario\n",
    "    Random random = new Random();\n",
    "    protoGameScenario.addWeaponsPosition(arrayScenarios.get(random.nextInt(arrayScenarios.size()))); //Añadir armas al scenario\n",
    "    \n",
    "    System.out.println(\"Adding scenario: \"+protoGameScenario.getScenarioName() + \" to list.\");\n",
    "    arrayGameScenarios.add(protoGameScenario);\n",
    "}"
   ]
  },
  {
   "cell_type": "markdown",
   "id": "8af4e899-bb65-4610-a822-ec3ab1933fa0",
   "metadata": {},
   "source": [
    "\n",
    "Ahora bien, ¿que pasa si queremos añadir armas en un mapa diferente?, pues bien, al depender de abstracciones, no rompemos los principios SOLID, por ejemplo, se va a crear un escenario o mapa diferente."
   ]
  },
  {
   "cell_type": "code",
   "execution_count": 76,
   "id": "0716467c-9365-49f0-92a4-35287b50dd23",
   "metadata": {},
   "outputs": [],
   "source": [
    "public class ChristmasScenario extends GameScenario{\n",
    "\n",
    "    public ChristmasScenario(ChristmasScenario target) {\n",
    "        super(target);\n",
    "        this.scenarioName = \"Christmas\";\n",
    "        this.scenarioDescription = \"A festive scenario for Christmas\";\n",
    "        this.scenarioType = \"Festive\";\n",
    "        this.scenarioBackground = \"A snowy winter wonderland\";\n",
    "    }\n",
    "\n",
    "    public ChristmasScenario clone() {\n",
    "        return new ChristmasScenario(this);\n",
    "    }\n",
    "}\n"
   ]
  },
  {
   "cell_type": "markdown",
   "id": "cdce9d80-c623-4f3c-9485-ca5f3fd3359f",
   "metadata": {},
   "source": [
    "### Al ejecutar el código se obtiene:"
   ]
  },
  {
   "cell_type": "code",
   "execution_count": 79,
   "id": "9012f202-9197-4fce-9e15-324e25123c40",
   "metadata": {},
   "outputs": [
    {
     "name": "stdout",
     "output_type": "stream",
     "text": [
      "Adding weapons to beach\n",
      "Adding scenario: Christmas_0 to list.\n",
      "Adding weapons to lake\n",
      "Adding scenario: Christmas_1 to list.\n",
      "Adding weapons to park\n",
      "Adding scenario: Christmas_2 to list.\n",
      "Adding weapons to mountain\n",
      "Adding scenario: Christmas_3 to list.\n"
     ]
    }
   ],
   "source": [
    "int matchNumbers = 4; //Se define el número de partidas a lanzar al servidor\n",
    "\n",
    "//Localizaciones \n",
    "ArrayList<String> arrayScenarios = new ArrayList<>(Arrays.asList(\"house\", \"school\", \"park\", \"beach\", \n",
    "\"forest\", \"mountain\", \"lake\", \"river\", \"cave\", \"desert\", \"jungle\", \"swamp\", \"city\", \"town\", \"village\"));\n",
    "\n",
    "ArrayList<Object> arrayGameScenarios = new ArrayList<>();\n",
    "\n",
    "//Creación de un scenario DIFERNTE a cargar\n",
    "GameScenario gameScenarioBase = new ChristmasScenario(null);\n",
    "\n",
    "//Crear el número de mapas según las partidas\n",
    "for (int i = 0; i < matchNumbers; i++) {\n",
    "    GameScenario protoGameScenario = gameScenarioBase.clone(); //Clonar el scenario\n",
    "    String NameProtoScenario = protoGameScenario.getScenarioName(); //Obtener el nombre del scenario base\n",
    "    protoGameScenario.setScenarioName(NameProtoScenario+\"_\"+ Integer.toString(i)); //Setear el nuevo nombre del scenario\n",
    "    Random random = new Random();\n",
    "    protoGameScenario.addWeaponsPosition(arrayScenarios.get(random.nextInt(arrayScenarios.size()))); //Añadir armas al scenario\n",
    "    \n",
    "    System.out.println(\"Adding scenario: \"+protoGameScenario.getScenarioName() + \" to list.\");\n",
    "    arrayGameScenarios.add(protoGameScenario);\n",
    "}"
   ]
  },
  {
   "cell_type": "markdown",
   "id": "c1335c4e-a5fa-459c-b005-d6a0a3433614",
   "metadata": {},
   "source": [
    "## Patrón Builder - Añadir accesorios a las armas"
   ]
  },
  {
   "cell_type": "markdown",
   "id": "46d7599b-f9c3-49e9-a869-228bc44248c0",
   "metadata": {},
   "source": [
    "Se tiene que en el videojuego se pueden implementar varios accesorios para las armas, pero recrear un arma completa resulta ser una tarea titanica. El patrón Builder nos permite agregar estos accesorios de una forma modular mediante la personalización del usuario.\n",
    "\n",
    "La implementación del patrón es la siguiente:\n",
    "\n",
    "### WeaponsAttachments\n",
    "Esta es nuestra clase producto, el cual es un objeto que contendrá las diferentes configuraciones de accesorios."
   ]
  },
  {
   "cell_type": "code",
   "execution_count": 129,
   "id": "a2e64a17-a8f2-49f2-8251-fbfd46aa2032",
   "metadata": {},
   "outputs": [],
   "source": [
    "public class WeaponAttachments {\n",
    "    private String sight;   // Mira\n",
    "    private String barrel;  // Cañón\n",
    "    private String stock;   // Culata\n",
    "    private String grip;    // Empuñadura\n",
    "    private String ammo;    // Tipo de munición\n",
    "\n",
    "    public WeaponAttachments(String sight, String barrel, String stock, String grip, String ammo) {\n",
    "        this.sight = sight;\n",
    "        this.barrel = barrel;\n",
    "        this.stock = stock;\n",
    "        this.grip = grip;\n",
    "        this.ammo = ammo;\n",
    "    }\n",
    "\n",
    "    public void showLoadout() { //Método para mostrar los accesorios del arma\n",
    "        System.out.println(\"Setup loaduot:\");\n",
    "        System.out.println(\"Sight: \" + (sight != null ? sight : \"Stock\"));\n",
    "        System.out.println(\"Barrel: \" + (barrel != null ? barrel : \"Stock\"));\n",
    "        System.out.println(\"Stock: \" + (stock != null ? stock : \"Basic\"));\n",
    "        System.out.println(\"Grip: \" + (grip != null ? grip : \"No grip\"));\n",
    "        System.out.println(\"Ammo: \" + (ammo != null ? ammo : \"Standar\"));\n",
    "    }\n",
    "}\n"
   ]
  },
  {
   "cell_type": "markdown",
   "id": "0d37903d-191d-4978-ab0a-2275c568f615",
   "metadata": {},
   "source": [
    "### IWeaponAttachmentsBuilder \n",
    "Esta interfaz nos va a servir para pasar diferentes builder en caso de necesitarse, es así como esta abstracción facilita la extensión, el desacoplamiento y el mantenimiento del sistema, respetando el principio de inversión de dependencias y separación de responsabilidades de los SOLID."
   ]
  },
  {
   "cell_type": "code",
   "execution_count": 117,
   "id": "6ad954e8-61d0-4497-adff-e0cdeab21673",
   "metadata": {},
   "outputs": [],
   "source": [
    "public interface IWeaponAttachmentsBuilder {\n",
    "    IWeaponAttachmentsBuilder setSight(String sight);\n",
    "    IWeaponAttachmentsBuilder setBarrel(String barrel);\n",
    "    IWeaponAttachmentsBuilder setStock(String stock);\n",
    "    IWeaponAttachmentsBuilder setGrip(String grip);\n",
    "    IWeaponAttachmentsBuilder setAmmo(String ammo);\n",
    "    WeaponAttachments build();\n",
    "}\n"
   ]
  },
  {
   "cell_type": "markdown",
   "id": "27d70c18-5c3c-407a-b0d6-97a69b907106",
   "metadata": {},
   "source": [
    "### WeaponAttachmentsBuilder\n",
    "Este será nuestra clase builder encargada de construir nuestros accesorios a las armas, usando los métodos concretos para añadirlos."
   ]
  },
  {
   "cell_type": "code",
   "execution_count": 120,
   "id": "a7056ce4-f499-4dbe-ad1f-fa27cb724f12",
   "metadata": {},
   "outputs": [],
   "source": [
    "public class WeaponAttachmentsBuilder implements IWeaponAttachmentsBuilder {\n",
    "    private String sight = \"Sight stock\";\n",
    "    private String barrel = \"Barrel stock\";\n",
    "    private String stock = \"Basic\";\n",
    "    private String grip = \"No grip\";\n",
    "    private String ammo = \"Standar\";\n",
    "\n",
    "    @Override\n",
    "    public IWeaponAttachmentsBuilder setSight(String sight) {\n",
    "        this.sight = sight;\n",
    "        return this;\n",
    "    }\n",
    "    @Override\n",
    "    public IWeaponAttachmentsBuilder setBarrel(String barrel) {\n",
    "        this.barrel = barrel;\n",
    "        return this;\n",
    "    }\n",
    "    @Override\n",
    "    public IWeaponAttachmentsBuilder setStock(String stock) {\n",
    "        this.stock = stock;\n",
    "        return this;\n",
    "    }\n",
    "    @Override\n",
    "    public IWeaponAttachmentsBuilder setGrip(String grip) {\n",
    "        this.grip = grip;\n",
    "        return this;\n",
    "    }\n",
    "    @Override\n",
    "    public IWeaponAttachmentsBuilder setAmmo(String ammo) {\n",
    "        this.ammo = ammo;\n",
    "        return this;\n",
    "    }\n",
    "    @Override\n",
    "    public WeaponAttachments build() {\n",
    "        return new WeaponAttachments(sight, barrel, stock, grip, ammo);\n",
    "    }\n",
    "}\n"
   ]
  },
  {
   "cell_type": "markdown",
   "id": "37ba7f4f-86b4-446c-8b6a-370ab01f5b9c",
   "metadata": {},
   "source": [
    "### AddWeaponAttachments\n",
    "Esta será nuestra clase main que nos va a simular el usuario añadiendo accesorios a su arma."
   ]
  },
  {
   "cell_type": "code",
   "execution_count": 1,
   "id": "1a0ece30-d643-437a-a22b-41df12a0ebe7",
   "metadata": {},
   "outputs": [],
   "source": [
    "public class AddWeaponAttachments {\n",
    "    public static void main(String[] args) {\n",
    "        // Uso directo del Builder a través de la interfaz\n",
    "        IWeaponAttachmentsBuilder builder = new WeaponAttachmentsBuilder();\n",
    "        WeaponAttachments customLoadout = builder\n",
    "                .setSight(\"Holographic\")\n",
    "                .setBarrel(\"Extended with muzzle\")\n",
    "                .setStock(\"Rescue stock\")\n",
    "                .setGrip(\"Vertical grip\")\n",
    "                .setAmmo(\"Piercing bullets\")\n",
    "                .build();\n",
    "\n",
    "        customLoadout.showLoadout();\n",
    "    }\n",
    "}"
   ]
  },
  {
   "cell_type": "markdown",
   "id": "e34cf744-fc79-486a-a7d9-245dcbbb7d6e",
   "metadata": {},
   "source": [
    "### Ejecutando el código tendriamos:"
   ]
  },
  {
   "cell_type": "code",
   "execution_count": 131,
   "id": "29d7bac1-30d1-4e53-bf62-e6d18a84bf4f",
   "metadata": {},
   "outputs": [
    {
     "name": "stdout",
     "output_type": "stream",
     "text": [
      "Setup loaduot:\n",
      "Sight: Holographic\n",
      "Barrel: Extended with muzzle\n",
      "Stock: Rescue stock\n",
      "Grip: Vertical grip\n",
      "Ammo: Piercing bullets\n"
     ]
    }
   ],
   "source": [
    "IWeaponAttachmentsBuilder builder = new WeaponAttachmentsBuilder();\n",
    "\n",
    "//Se simula como se si hubiera seleccionado esos accesorios\n",
    "WeaponAttachments customLoadout = builder\n",
    "    .setSight(\"Holographic\")\n",
    "    .setBarrel(\"Extended with muzzle\")\n",
    "    .setStock(\"Rescue stock\")\n",
    "    .setGrip(\"Vertical grip\")\n",
    "    .setAmmo(\"Piercing bullets\")\n",
    "    .build();\n",
    "\n",
    "customLoadout.showLoadout();"
   ]
  },
  {
   "cell_type": "markdown",
   "id": "9abaff04-f405-4e65-8228-fbbaaed34dec",
   "metadata": {},
   "source": [
    "Pero que pasaría si el usuario aún no está en un nivel suficiente para desbloquear todos los accesorios del arma?, pues simplemente evitamos ingresarle los atributos bloqueados. como se muestra en el siguiente ejemplo:"
   ]
  },
  {
   "cell_type": "code",
   "execution_count": 136,
   "id": "feafb8f8-b02f-4130-9af3-9cd1f9941d82",
   "metadata": {},
   "outputs": [
    {
     "name": "stdout",
     "output_type": "stream",
     "text": [
      "Setup loaduot:\n",
      "Sight: Sight stock\n",
      "Barrel: Extended with muzzle\n",
      "Stock: Rescue stock\n",
      "Grip: Vertical grip\n",
      "Ammo: Standar\n"
     ]
    }
   ],
   "source": [
    "IWeaponAttachmentsBuilder builder = new WeaponAttachmentsBuilder();\n",
    "\n",
    "//Se simula como se si hubiera seleccionado esos accesorios\n",
    "WeaponAttachments customLoadout = builder\n",
    "    //.setSight(\"Holographic\")  No se pasa este accesorio\n",
    "    .setBarrel(\"Extended with muzzle\")\n",
    "    .setStock(\"Rescue stock\")\n",
    "    .setGrip(\"Vertical grip\")\n",
    "    //.setAmmo(\"Piercing bullets\") No se pasa este accesorio\n",
    "    .build();\n",
    "\n",
    "customLoadout.showLoadout();"
   ]
  },
  {
   "cell_type": "markdown",
   "id": "bc30687e-24b3-40be-8548-8332635817fc",
   "metadata": {},
   "source": [
    "Como se ve, los elementos estandar del arma se mantienen, construyendo mi objeto con builder unicamente con lo que necesita."
   ]
  },
  {
   "cell_type": "markdown",
   "id": "8e5febcb-e04d-4bb0-82cc-7de4336c7ef7",
   "metadata": {},
   "source": [
    "## Patrón Singleton - Administrador de partida privada \n",
    "Cuando se inicia una partida nueva en un videojuego en línea, el sistema asigna al jugador a un servidor disponible. Pero si se desea jugar en una partida privada, donde sólo participen sus amigos, se necesita que todos se conecten a un mismo servidor o instancia de juego. En este caso, el patrón Singleton es ideal para garantizar que el componente encargado de administrar el estado de la partida privada sea único, asegurando la centralización de la sesión del videojuego.\n",
    "\n",
    "La implementación del patrón sería la siguiente:\n",
    "\n",
    "### Player\n",
    "Clase que representa un jugador, en un ejemplo mas concreto podría tener sus armas y skin asociada, pero para terminos del ejercicio, sólo tendra si nombre y Id."
   ]
  },
  {
   "cell_type": "code",
   "execution_count": 13,
   "id": "6fc517bf-cdee-4d9f-92d5-fee1aaa8cc2e",
   "metadata": {},
   "outputs": [],
   "source": [
    "public class Player {\n",
    "    private String name;\n",
    "    private String id;\n",
    "\n",
    "    public Player(String name, String id) {\n",
    "        this.name = name;\n",
    "        this.id = id;\n",
    "    }\n",
    "    public String getName() {\n",
    "        return name;\n",
    "    }\n",
    "    public String getId() {\n",
    "        return id;\n",
    "    }\n",
    "}"
   ]
  },
  {
   "cell_type": "markdown",
   "id": "38067f27-d6f9-4310-bee3-00b7eff91968",
   "metadata": {},
   "source": [
    "### GameManager\n",
    "La clase GameManager en la instancia única que contiene el Singleton, su constructor privado evita la creación que un nuevo objeto (Instanciación) y el método GetInstance controla que siempre se obtenga la misma instancia, garantizando un único punto de acceso global hasta que finalice la partida, reseteando la instancia lista para una nueva."
   ]
  },
  {
   "cell_type": "code",
   "execution_count": 28,
   "id": "6376d157-0eac-4142-babb-1e6ef1383b44",
   "metadata": {},
   "outputs": [],
   "source": [
    "import java.util.ArrayList;\n",
    "import java.util.List;\n",
    "\n",
    "public class GameManager {\n",
    "    // Instancia única (singleton)\n",
    "    private static GameManager instance;\n",
    "    \n",
    "    // Lista de jugadores y estado de la partida\n",
    "    private List<Player> players;\n",
    "    private boolean gameStarted;\n",
    "    \n",
    "    // Constructor privado evita instanciación externa\n",
    "    private GameManager() {\n",
    "        players = new ArrayList<>();\n",
    "        gameStarted = false;\n",
    "    }\n",
    "    \n",
    "    // Método sincronizado para obtener la instancia única\n",
    "    public static synchronized GameManager getInstance() {\n",
    "        if (instance == null) {\n",
    "            instance = new GameManager();\n",
    "        }\n",
    "        System.out.println(\"Instancia: \"+instance);\n",
    "        return instance;\n",
    "    }\n",
    "    \n",
    "    // Agregar un jugador a la partida (antes de iniciar)\n",
    "    public void addPlayer(Player player) {\n",
    "        if (!gameStarted) {\n",
    "            players.add(player);\n",
    "            System.out.println(\"Jugador \" + player.getName() + \" se ha unido a la partida privada.\");\n",
    "        } else {\n",
    "            System.out.println(\"No se puede agregar \" + player.getName() + \". La partida ya ha comenzado.\");\n",
    "        }\n",
    "    }\n",
    "\n",
    "    //Banear un jugador\n",
    "    public void removePlayer(Player player) {\n",
    "        players.remove(player);\n",
    "        System.out.println(player.getName() + \" ha salido de la partida.\");\n",
    "    }\n",
    "    \n",
    "    // Iniciar la partida (requiere al menos 2 jugadores)\n",
    "    public void startGame() {\n",
    "        if (players.size() < 2) {\n",
    "            System.out.println(\"No hay suficientes jugadores para iniciar la partida.\");\n",
    "        } else {\n",
    "            gameStarted = true;\n",
    "            System.out.println(\"La partida privada ha comenzado con los siguientes jugadores:\");\n",
    "            for (Player player : players) {\n",
    "                System.out.println(\" - \" + player.getName());\n",
    "            }\n",
    "        }\n",
    "    }\n",
    "    \n",
    "    // Finalizar la partida\n",
    "    public void endGame() {\n",
    "        System.out.println(\"Partida finalizada.\");\n",
    "        resetInstance();  // Reinicia el Singleton\n",
    "    }\n",
    "\n",
    "    private static void resetInstance() {\n",
    "        System.out.println(\"Reiniciando la partida...\");\n",
    "        instance = null;\n",
    "    }\n",
    "}"
   ]
  },
  {
   "cell_type": "markdown",
   "id": "f4c64b71-eaf3-4bba-a303-e0e1239d7ad9",
   "metadata": {},
   "source": [
    "### PrivateMatch\n",
    "Por último la clase PrivateMatch va ser mi main o cliente en donde se dará lugar la partida."
   ]
  },
  {
   "cell_type": "code",
   "execution_count": 29,
   "id": "571567f7-6a74-49e2-96e1-09e39684b0ac",
   "metadata": {},
   "outputs": [],
   "source": [
    "public class PrivateMatch {\n",
    "    public static void main(String[] args) {\n",
    "        // Obtener la instancia única del GameManager\n",
    "        GameManager gameManager = GameManager.getInstance();\n",
    "\n",
    "        Player paola = new Player(\"Paola\", \"1234\");\n",
    "        Player wilson = new Player(\"Wilson\", \"3214\");\n",
    "        Player yeison = new Player(\"Yeison\", \"0912\");\n",
    "        \n",
    "        // Agregar jugadores a la partida privada\n",
    "        gameManager.addPlayer(paola);\n",
    "        gameManager.addPlayer(wilson);\n",
    "        gameManager.addPlayer(yeison);\n",
    "        \n",
    "        // Iniciar la partida\n",
    "        gameManager.startGame();\n",
    "\n",
    "        //Desarrollo de la partida...\n",
    "        gameManager.removePlayer(paola);\n",
    "        \n",
    "        // Finalizar la partida\n",
    "        gameManager.endGame();\n",
    "    }\n",
    "}"
   ]
  },
  {
   "cell_type": "markdown",
   "id": "f3279142-1438-4645-9bc9-fe1c032c24de",
   "metadata": {},
   "source": [
    "### Ejecutando el código tendríamos:"
   ]
  },
  {
   "cell_type": "code",
   "execution_count": 33,
   "id": "889b66ef-cd0a-41d3-bbdc-ac1b8144389d",
   "metadata": {},
   "outputs": [
    {
     "name": "stdout",
     "output_type": "stream",
     "text": [
      "Instancia: REPL.$JShell$15M$GameManager@4c1094f\n",
      "Jugador Paola se ha unido a la partida privada.\n",
      "Jugador Wilson se ha unido a la partida privada.\n",
      "Jugador Yeison se ha unido a la partida privada.\n",
      "Instancia: REPL.$JShell$15M$GameManager@4c1094f\n",
      "La partida privada ha comenzado con los siguientes jugadores:\n",
      " - Paola\n",
      " - Wilson\n",
      " - Yeison\n",
      "Instancia: REPL.$JShell$15M$GameManager@4c1094f\n",
      "Paola ha salido de la partida.\n",
      "Partida finalizada.\n",
      "Reiniciando la partida...\n",
      "Instancia: REPL.$JShell$15M$GameManager@a06e7a7\n"
     ]
    },
    {
     "data": {
      "text/plain": [
       "REPL.$JShell$15M$GameManager@a06e7a7"
      ]
     },
     "execution_count": 33,
     "metadata": {},
     "output_type": "execute_result"
    }
   ],
   "source": [
    "// Obtener la instancia única del GameManager\n",
    "GameManager gameManager = GameManager.getInstance();\n",
    "\n",
    "Player paola = new Player(\"Paola\", \"1234\");\n",
    "Player wilson = new Player(\"Wilson\", \"3214\");\n",
    "Player yeison = new Player(\"Yeison\", \"0912\");\n",
    "\n",
    "// Agregar jugadores a la partida privada\n",
    "gameManager.addPlayer(paola);\n",
    "gameManager.addPlayer(wilson);\n",
    "gameManager.addPlayer(yeison);\n",
    "\n",
    "//Probar la instancia antes de la partida\n",
    "GameManager.getInstance();\n",
    "\n",
    "// Iniciar la partida\n",
    "gameManager.startGame();\n",
    "\n",
    "//Probar la instancia durante la partida\n",
    "GameManager.getInstance();\n",
    "\n",
    "//Desarrollo de la partida...\n",
    "gameManager.removePlayer(paola);\n",
    "\n",
    "// Finalizar la partida\n",
    "gameManager.endGame();\n",
    "\n",
    "//Probar la instancia despúes de la partida\n",
    "GameManager.getInstance();"
   ]
  },
  {
   "cell_type": "markdown",
   "id": "563859fc-7200-43b2-a71e-20f4649dc0d1",
   "metadata": {},
   "source": [
    "Notese como al llamar la instancia antes y durante la partida es la misma instancia, mientras que cuando finaliza, está es diferente."
   ]
  },
  {
   "cell_type": "code",
   "execution_count": null,
   "id": "59327153-1475-4fb0-92b9-24d15f82bd9c",
   "metadata": {},
   "outputs": [],
   "source": []
  }
 ],
 "metadata": {
  "kernelspec": {
   "display_name": "Java",
   "language": "java",
   "name": "java"
  },
  "language_info": {
   "codemirror_mode": "java",
   "file_extension": ".jshell",
   "mimetype": "text/x-java-source",
   "name": "Java",
   "pygments_lexer": "java",
   "version": "17.0.14+7"
  }
 },
 "nbformat": 4,
 "nbformat_minor": 5
}
